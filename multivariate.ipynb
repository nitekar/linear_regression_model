{
  "metadata": {
    "kernelspec": {
      "language": "python",
      "display_name": "Python 3",
      "name": "python3"
    },
    "language_info": {
      "name": "python",
      "version": "3.10.12",
      "mimetype": "text/x-python",
      "codemirror_mode": {
        "name": "ipython",
        "version": 3
      },
      "pygments_lexer": "ipython3",
      "nbconvert_exporter": "python",
      "file_extension": ".py"
    },
    "kaggle": {
      "accelerator": "none",
      "dataSources": [
        {
          "sourceId": 10647652,
          "sourceType": "datasetVersion",
          "datasetId": 6592754
        }
      ],
      "dockerImageVersionId": 30918,
      "isInternetEnabled": false,
      "language": "python",
      "sourceType": "notebook",
      "isGpuEnabled": false
    },
    "colab": {
      "name": "multivariate",
      "provenance": [],
      "include_colab_link": true
    }
  },
  "nbformat_minor": 0,
  "nbformat": 4,
  "cells": [
    {
      "cell_type": "markdown",
      "metadata": {
        "id": "view-in-github",
        "colab_type": "text"
      },
      "source": [
        "<a href=\"https://colab.research.google.com/github/nitekar/linear_regression_model/blob/main/multivariate.ipynb\" target=\"_parent\"><img src=\"https://colab.research.google.com/assets/colab-badge.svg\" alt=\"Open In Colab\"/></a>"
      ]
    },
    {
      "source": [
        "# IMPORTANT: RUN THIS CELL IN ORDER TO IMPORT YOUR KAGGLE DATA SOURCES,\n",
        "# THEN FEEL FREE TO DELETE THIS CELL.\n",
        "# NOTE: THIS NOTEBOOK ENVIRONMENT DIFFERS FROM KAGGLE'S PYTHON\n",
        "# ENVIRONMENT SO THERE MAY BE MISSING LIBRARIES USED BY YOUR\n",
        "# NOTEBOOK.\n",
        "import kagglehub\n",
        "adilshamim8_education_and_career_success_path = kagglehub.dataset_download('adilshamim8/education-and-career-success')\n",
        "\n",
        "print('Data source import complete.')\n"
      ],
      "metadata": {
        "id": "SIdModBpGRcM"
      },
      "cell_type": "code",
      "outputs": [],
      "execution_count": null
    },
    {
      "cell_type": "markdown",
      "source": [
        "# Linear Regression\n",
        "\n",
        "The goal of this project is to build a linear regression model to predict work-life balance based on various factors. I will also compare the performance of linear regression with decision trees and random forest models to identify the best-performing model.\n",
        "\n",
        "1. I’ll use Python with libraries like pandas, numpy, seaborn, and matplotlib to load the data and generate visualizations.\n",
        "2. I'll implement three models: Linear Regression, Random Forest, and Decision Tree.\n",
        "3. I’ll also include a function to predict from one data point and save the model with the lowest loss\n"
      ],
      "metadata": {
        "execution": {
          "iopub.status.busy": "2025-03-23T15:36:11.212223Z",
          "iopub.execute_input": "2025-03-23T15:36:11.212623Z",
          "iopub.status.idle": "2025-03-23T15:36:12.26Z",
          "shell.execute_reply.started": "2025-03-23T15:36:11.21259Z",
          "shell.execute_reply": "2025-03-23T15:36:12.258553Z"
        },
        "id": "ZUnf0KGfGRcQ"
      }
    },
    {
      "cell_type": "markdown",
      "source": [
        "# Import Libraries and Load the Dataset"
      ],
      "metadata": {
        "id": "0Sp3JwrdGRcS"
      }
    },
    {
      "cell_type": "code",
      "source": [
        "# Import necessary libraries\n",
        "import pandas as pd\n",
        "import numpy as np\n",
        "import matplotlib.pyplot as plt\n",
        "import seaborn as sns\n",
        "from sklearn.model_selection import train_test_split\n",
        "from sklearn.linear_model import LinearRegression\n",
        "from sklearn.tree import DecisionTreeRegressor\n",
        "from sklearn.ensemble import RandomForestRegressor\n",
        "from sklearn.metrics import mean_squared_error, r2_score\n",
        "\n",
        "# Load the dataset\n",
        "data = pd.read_csv('/kaggle/input/education-and-career-success/education_career_success.csv')\n",
        "\n",
        "# Display the first few rows of the dataset\n",
        "print(\"Dataset Preview:\")\n",
        "print(data.head())\n"
      ],
      "metadata": {
        "trusted": true,
        "execution": {
          "iopub.status.busy": "2025-03-23T17:08:19.962979Z",
          "iopub.execute_input": "2025-03-23T17:08:19.963297Z",
          "iopub.status.idle": "2025-03-23T17:08:21.964937Z",
          "shell.execute_reply.started": "2025-03-23T17:08:19.963274Z",
          "shell.execute_reply": "2025-03-23T17:08:21.963965Z"
        },
        "id": "5KSvr3zcGRcT",
        "outputId": "24c3c0f9-4b34-4c50-b20d-08a0b98ac457"
      },
      "outputs": [
        {
          "name": "stdout",
          "text": "Dataset Preview:\n  Student_ID  Age  Gender  High_School_GPA  SAT_Score  University_Ranking  \\\n0     S00001   24    Male             3.58       1052                 291   \n1     S00002   21   Other             2.52       1211                 112   \n2     S00003   28  Female             3.42       1193                 715   \n3     S00004   25    Male             2.43       1497                 170   \n4     S00005   22    Male             2.08       1012                 599   \n\n   University_GPA    Field_of_Study  Internships_Completed  \\\n0            3.96              Arts                      3   \n1            3.63               Law                      4   \n2            2.63          Medicine                      4   \n3            2.81  Computer Science                      3   \n4            2.48       Engineering                      4   \n\n   Projects_Completed  Certifications  Soft_Skills_Score  Networking_Score  \\\n0                   7               2                  9                 8   \n1                   7               3                  8                 1   \n2                   8               1                  1                 9   \n3                   9               1                 10                 6   \n4                   6               4                 10                 9   \n\n   Job_Offers  Starting_Salary  Career_Satisfaction  Years_to_Promotion  \\\n0           5          27200.0                    4                   5   \n1           4          25000.0                    1                   1   \n2           0          42400.0                    9                   3   \n3           1          57400.0                    7                   5   \n4           4          47600.0                    9                   5   \n\n  Current_Job_Level  Work_Life_Balance Entrepreneurship  \n0             Entry                  7               No  \n1               Mid                  7               No  \n2             Entry                  7               No  \n3               Mid                  5               No  \n4             Entry                  2               No  \n",
          "output_type": "stream"
        }
      ],
      "execution_count": null
    },
    {
      "cell_type": "markdown",
      "source": [
        "# Data Preprocessing"
      ],
      "metadata": {
        "id": "YZK8onYDGRcV"
      }
    },
    {
      "cell_type": "code",
      "source": [
        "# Convert categorical variables to numerical (if any)\n",
        "data = pd.get_dummies(data, drop_first=True)\n",
        "\n",
        "# Correlation matrix to see which features are highly correlated with Work-Life Balance\n",
        "plt.figure(figsize=(12, 8))\n",
        "correlation_matrix = data.corr()\n",
        "sns.heatmap(correlation_matrix, annot=True, cmap='coolwarm')\n",
        "plt.title('Correlation Matrix')\n",
        "plt.show()\n"
      ],
      "metadata": {
        "trusted": true,
        "execution": {
          "iopub.status.busy": "2025-03-23T17:08:42.731238Z",
          "iopub.execute_input": "2025-03-23T17:08:42.731639Z",
          "execution_failed": "2025-03-23T17:09:21.655Z"
        },
        "id": "TRWytHR7GRcV",
        "outputId": "6c3c36f7-b2ac-407f-cf34-918e4aaf87a2",
        "colab": {
          "base_uri": "https://localhost:8080/",
          "height": 211
        }
      },
      "outputs": [
        {
          "output_type": "error",
          "ename": "NameError",
          "evalue": "name 'pd' is not defined",
          "traceback": [
            "\u001b[0;31m---------------------------------------------------------------------------\u001b[0m",
            "\u001b[0;31mNameError\u001b[0m                                 Traceback (most recent call last)",
            "\u001b[0;32m<ipython-input-1-ce5c42b2b7a4>\u001b[0m in \u001b[0;36m<cell line: 0>\u001b[0;34m()\u001b[0m\n\u001b[1;32m      1\u001b[0m \u001b[0;31m# Convert categorical variables to numerical (if any)\u001b[0m\u001b[0;34m\u001b[0m\u001b[0;34m\u001b[0m\u001b[0m\n\u001b[0;32m----> 2\u001b[0;31m \u001b[0mdata\u001b[0m \u001b[0;34m=\u001b[0m \u001b[0mpd\u001b[0m\u001b[0;34m.\u001b[0m\u001b[0mget_dummies\u001b[0m\u001b[0;34m(\u001b[0m\u001b[0mdata\u001b[0m\u001b[0;34m,\u001b[0m \u001b[0mdrop_first\u001b[0m\u001b[0;34m=\u001b[0m\u001b[0;32mTrue\u001b[0m\u001b[0;34m)\u001b[0m\u001b[0;34m\u001b[0m\u001b[0;34m\u001b[0m\u001b[0m\n\u001b[0m\u001b[1;32m      3\u001b[0m \u001b[0;34m\u001b[0m\u001b[0m\n\u001b[1;32m      4\u001b[0m \u001b[0;31m# Correlation matrix to see which features are highly correlated with Work-Life Balance\u001b[0m\u001b[0;34m\u001b[0m\u001b[0;34m\u001b[0m\u001b[0m\n\u001b[1;32m      5\u001b[0m \u001b[0mplt\u001b[0m\u001b[0;34m.\u001b[0m\u001b[0mfigure\u001b[0m\u001b[0;34m(\u001b[0m\u001b[0mfigsize\u001b[0m\u001b[0;34m=\u001b[0m\u001b[0;34m(\u001b[0m\u001b[0;36m12\u001b[0m\u001b[0;34m,\u001b[0m \u001b[0;36m8\u001b[0m\u001b[0;34m)\u001b[0m\u001b[0;34m)\u001b[0m\u001b[0;34m\u001b[0m\u001b[0;34m\u001b[0m\u001b[0m\n",
            "\u001b[0;31mNameError\u001b[0m: name 'pd' is not defined"
          ]
        }
      ],
      "execution_count": 1
    },
    {
      "cell_type": "markdown",
      "source": [
        "# Splitting the Data"
      ],
      "metadata": {
        "id": "U5mwf5LsGRcW"
      }
    },
    {
      "cell_type": "code",
      "source": [
        "# Selecting features and target variable\n",
        "X = data.drop(['Work-Life Balance'], axis=1)\n",
        "y = data['Work-Life Balance']\n",
        "\n",
        "# Train-test split\n",
        "X_train, X_test, y_train, y_test = train_test_split(X, y, test_size=0.2, random_state=42)\n"
      ],
      "metadata": {
        "trusted": true,
        "execution": {
          "iopub.status.busy": "2025-03-23T17:06:20.97037Z",
          "iopub.execute_input": "2025-03-23T17:06:20.970602Z",
          "iopub.status.idle": "2025-03-23T17:06:21.066165Z",
          "shell.execute_reply.started": "2025-03-23T17:06:20.970579Z",
          "shell.execute_reply": "2025-03-23T17:06:21.064844Z"
        },
        "id": "DJvV9vPWGRcW",
        "outputId": "e4cd2c8d-48b6-4d06-b63e-10c468eaa500"
      },
      "outputs": [
        {
          "traceback": [
            "\u001b[0;31m---------------------------------------------------------------------------\u001b[0m",
            "\u001b[0;31mNameError\u001b[0m                                 Traceback (most recent call last)",
            "\u001b[0;32m<ipython-input-1-07cd35a0faea>\u001b[0m in \u001b[0;36m<cell line: 2>\u001b[0;34m()\u001b[0m\n\u001b[1;32m      1\u001b[0m \u001b[0;31m# Selecting features and target variable\u001b[0m\u001b[0;34m\u001b[0m\u001b[0;34m\u001b[0m\u001b[0m\n\u001b[0;32m----> 2\u001b[0;31m \u001b[0mX\u001b[0m \u001b[0;34m=\u001b[0m \u001b[0mdata\u001b[0m\u001b[0;34m.\u001b[0m\u001b[0mdrop\u001b[0m\u001b[0;34m(\u001b[0m\u001b[0;34m[\u001b[0m\u001b[0;34m'Work-Life Balance'\u001b[0m\u001b[0;34m]\u001b[0m\u001b[0;34m,\u001b[0m \u001b[0maxis\u001b[0m\u001b[0;34m=\u001b[0m\u001b[0;36m1\u001b[0m\u001b[0;34m)\u001b[0m\u001b[0;34m\u001b[0m\u001b[0;34m\u001b[0m\u001b[0m\n\u001b[0m\u001b[1;32m      3\u001b[0m \u001b[0my\u001b[0m \u001b[0;34m=\u001b[0m \u001b[0mdata\u001b[0m\u001b[0;34m[\u001b[0m\u001b[0;34m'Work-Life Balance'\u001b[0m\u001b[0;34m]\u001b[0m\u001b[0;34m\u001b[0m\u001b[0;34m\u001b[0m\u001b[0m\n\u001b[1;32m      4\u001b[0m \u001b[0;34m\u001b[0m\u001b[0m\n\u001b[1;32m      5\u001b[0m \u001b[0;31m# Train-test split\u001b[0m\u001b[0;34m\u001b[0m\u001b[0;34m\u001b[0m\u001b[0m\n",
            "\u001b[0;31mNameError\u001b[0m: name 'data' is not defined"
          ],
          "ename": "NameError",
          "evalue": "name 'data' is not defined",
          "output_type": "error"
        }
      ],
      "execution_count": null
    },
    {
      "cell_type": "markdown",
      "source": [
        "# Training the Models\n",
        "\n",
        "## 1. Linear Regression"
      ],
      "metadata": {
        "id": "i214LdG0GRcX"
      }
    },
    {
      "cell_type": "code",
      "source": [
        "# Linear Regression Model\n",
        "lin_reg = LinearRegression()\n",
        "lin_reg.fit(X_train, y_train)\n",
        "\n",
        "# Predictions\n",
        "y_pred_lr = lin_reg.predict(X_test)\n",
        "\n",
        "# Metrics\n",
        "mse_lr = mean_squared_error(y_test, y_pred_lr)\n",
        "r2_lr = r2_score(y_test, y_pred_lr)\n",
        "print(f\"Linear Regression MSE: {mse_lr}\")\n",
        "print(f\"Linear Regression R^2: {r2_lr}\")\n"
      ],
      "metadata": {
        "trusted": true,
        "id": "snhtEe5gGRcY"
      },
      "outputs": [],
      "execution_count": null
    },
    {
      "cell_type": "markdown",
      "source": [
        "## 2. Decision Tree"
      ],
      "metadata": {
        "id": "tgJ2fPivGRcY"
      }
    },
    {
      "cell_type": "code",
      "source": [
        "# Decision Tree Regressor\n",
        "tree_reg = DecisionTreeRegressor(random_state=42)\n",
        "tree_reg.fit(X_train, y_train)\n",
        "\n",
        "# Predictions\n",
        "y_pred_tree = tree_reg.predict(X_test)\n",
        "\n",
        "# Metrics\n",
        "mse_tree = mean_squared_error(y_test, y_pred_tree)\n",
        "r2_tree = r2_score(y_test, y_pred_tree)\n",
        "print(f\"Decision Tree MSE: {mse_tree}\")\n",
        "print(f\"Decision Tree R^2: {r2_tree}\")\n"
      ],
      "metadata": {
        "trusted": true,
        "id": "TxuwqNgaGRcY"
      },
      "outputs": [],
      "execution_count": null
    },
    {
      "cell_type": "markdown",
      "source": [
        "## 3. Random Forest"
      ],
      "metadata": {
        "id": "m6QbQZzGGRcZ"
      }
    },
    {
      "cell_type": "code",
      "source": [
        "# Random Forest Regressor\n",
        "forest_reg = RandomForestRegressor(random_state=42, n_estimators=100)\n",
        "forest_reg.fit(X_train, y_train)\n",
        "\n",
        "# Predictions\n",
        "y_pred_forest = forest_reg.predict(X_test)\n",
        "\n",
        "# Metrics\n",
        "mse_forest = mean_squared_error(y_test, y_pred_forest)\n",
        "r2_forest = r2_score(y_test, y_pred_forest)\n",
        "print(f\"Random Forest MSE: {mse_forest}\")\n",
        "print(f\"Random Forest R^2: {r2_forest}\")\n"
      ],
      "metadata": {
        "trusted": true,
        "id": "alJx6uKRGRcZ"
      },
      "outputs": [],
      "execution_count": null
    },
    {
      "cell_type": "markdown",
      "source": [
        "# Model comparison and saving the best model"
      ],
      "metadata": {
        "id": "xcDMPbERGRcZ"
      }
    },
    {
      "cell_type": "code",
      "source": [
        "# Compare models based on MSE and R^2\n",
        "models = pd.DataFrame({\n",
        "    'Model': ['Linear Regression', 'Decision Tree', 'Random Forest'],\n",
        "    'MSE': [mse_lr, mse_tree, mse_forest],\n",
        "    'R^2': [r2_lr, r2_tree, r2_forest]\n",
        "})\n",
        "\n",
        "print(\"\\nModel Comparison:\")\n",
        "print(models)\n",
        "\n",
        "# Save the best model (Random Forest in this example)\n",
        "import joblib\n",
        "best_model = forest_reg\n",
        "joblib.dump(best_model, 'best_model.pkl')\n"
      ],
      "metadata": {
        "trusted": true,
        "id": "oTncq3pIGRca"
      },
      "outputs": [],
      "execution_count": null
    },
    {
      "cell_type": "markdown",
      "source": [
        "# Visualize the Loss Curve"
      ],
      "metadata": {
        "id": "xDcXh02xGRca"
      }
    },
    {
      "cell_type": "code",
      "source": [
        "# Plotting the actual vs predicted values for the best model\n",
        "plt.figure(figsize=(8, 5))\n",
        "plt.scatter(y_test, y_pred_forest, alpha=0.7)\n",
        "plt.xlabel(\"Actual Work-Life Balance\")\n",
        "plt.ylabel(\"Predicted Work-Life Balance\")\n",
        "plt.title(\"Actual vs Predicted Work-Life Balance\")\n",
        "plt.show()"
      ],
      "metadata": {
        "trusted": true,
        "execution": {
          "execution_failed": "2025-03-23T17:09:21.655Z"
        },
        "id": "UUI6o29jGRca"
      },
      "outputs": [],
      "execution_count": null
    },
    {
      "cell_type": "markdown",
      "source": [
        "# Prediction Script\n"
      ],
      "metadata": {
        "id": "8Qd2IukRGRcb"
      }
    },
    {
      "cell_type": "code",
      "source": [
        "import joblib\n",
        "import numpy as np\n",
        "\n",
        "# Load the saved model\n",
        "model = joblib.load('best_model.pkl')\n",
        "\n",
        "def predict_work_life_balance(input_data):\n",
        "    prediction = model.predict(np.array(input_data).reshape(1, -1))\n",
        "    return prediction[0]\n",
        "\n",
        "# Example usage\n",
        "example_input = [24, 3.8, 2, 4, 5, 1, 4, 3]  # Adjust the input as per your features\n",
        "print(f\"Predicted Work-Life Balance: {predict_work_life_balance(example_input)}\")\n"
      ],
      "metadata": {
        "trusted": true,
        "id": "nhtC3qKlGRcb"
      },
      "outputs": [],
      "execution_count": null
    }
  ]
}